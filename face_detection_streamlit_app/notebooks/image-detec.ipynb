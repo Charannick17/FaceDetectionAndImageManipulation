{
 "cells": [
  {
   "cell_type": "markdown",
   "metadata": {},
   "source": [
    "A Cascade Classifier in OpenCV is a machine learning-based approach for object detection. It is primarily used for detecting objects in images or video streams, such as faces, eyes, pedestrians, and other objects. The classifier is trained using a large number of positive and negative images, and it uses a cascade of simple classifiers (stages) to detect objects efficiently.\n",
    "\n",
    "Cascade Classifiers in OpenCV are powerful tools for object detection. They are efficient and can detect objects in real-time applications. By using pre-trained classifiers, you can quickly implement object detection in your projects."
   ]
  },
  {
   "cell_type": "code",
   "execution_count": 33,
   "metadata": {},
   "outputs": [],
   "source": [
    "import cv2\n",
    "classifier= cv2.CascadeClassifier('haarcascade_frontalface_default.xml')"
   ]
  },
  {
   "cell_type": "code",
   "execution_count": 5,
   "metadata": {},
   "outputs": [],
   "source": [
    "vid = cv2.VideoCapture(0)\n",
    "while 1:\n",
    "    _,img = vid.read()\n",
    "    faces=classifier.detectMultiScale(img,scaleFactor=1.1,minNeighbors=3,minSize=(30,30))\n",
    "    for x,y,w,h in faces:\n",
    "        cv2.rectangle(img,(x,y),(x+w,y+h),(255,0,0),2)\n",
    "        cv2.putText(img,'Face Detected',(x-5,y-5),cv2.FONT_HERSHEY_SIMPLEX,1,(0,0,255),2)\n",
    "    cv2.imshow('face-detected',img)\n",
    "    if cv2.waitKey(1) & 0xFF == ord('q'):\n",
    "        break\n",
    "vid.release()\n",
    "cv2.destroyAllWindows()\n",
    "    "
   ]
  },
  {
   "cell_type": "code",
   "execution_count": 6,
   "metadata": {},
   "outputs": [
    {
     "data": {
      "text/plain": [
       "array([[[162, 166, 157],\n",
       "        [161, 165, 156],\n",
       "        [158, 162, 153],\n",
       "        ...,\n",
       "        [180, 183, 185],\n",
       "        [179, 183, 185],\n",
       "        [179, 183, 185]],\n",
       "\n",
       "       [[160, 164, 156],\n",
       "        [161, 165, 157],\n",
       "        [160, 164, 156],\n",
       "        ...,\n",
       "        [178, 182, 184],\n",
       "        [178, 182, 184],\n",
       "        [177, 182, 184]],\n",
       "\n",
       "       [[160, 164, 160],\n",
       "        [162, 166, 162],\n",
       "        [161, 165, 161],\n",
       "        ...,\n",
       "        [176, 180, 182],\n",
       "        [177, 182, 184],\n",
       "        [177, 183, 185]],\n",
       "\n",
       "       ...,\n",
       "\n",
       "       [[124, 126, 126],\n",
       "        [124, 127, 127],\n",
       "        [123, 128, 127],\n",
       "        ...,\n",
       "        [ 85, 115, 133],\n",
       "        [ 91, 120, 138],\n",
       "        [ 90, 119, 137]],\n",
       "\n",
       "       [[124, 129, 128],\n",
       "        [125, 130, 129],\n",
       "        [123, 131, 128],\n",
       "        ...,\n",
       "        [ 86, 114, 131],\n",
       "        [ 92, 121, 139],\n",
       "        [ 90, 119, 137]],\n",
       "\n",
       "       [[121, 126, 124],\n",
       "        [122, 128, 126],\n",
       "        [121, 130, 127],\n",
       "        ...,\n",
       "        [ 85, 113, 130],\n",
       "        [ 92, 121, 139],\n",
       "        [ 88, 117, 135]]], dtype=uint8)"
      ]
     },
     "execution_count": 6,
     "metadata": {},
     "output_type": "execute_result"
    }
   ],
   "source": []
  },
  {
   "cell_type": "code",
   "execution_count": 29,
   "metadata": {},
   "outputs": [
    {
     "name": "stdout",
     "output_type": "stream",
     "text": [
      "((), ())\n",
      "((), ())\n",
      "((), ())\n",
      "((), ())\n",
      "((), ())\n",
      "(array([[295, 109, 215, 215]]), array([4]))\n",
      "((), ())\n",
      "(array([[308, 115, 196, 196]]), array([21]))\n",
      "(array([[309, 115, 196, 196]]), array([19]))\n",
      "(array([[309, 118, 194, 194]]), array([24]))\n",
      "(array([[310, 119, 190, 190]]), array([25]))\n",
      "(array([[311, 117, 190, 190]]), array([25]))\n",
      "(array([[311, 117, 192, 192]]), array([24]))\n",
      "(array([[309, 123, 188, 188]]), array([29]))\n",
      "(array([[309, 117, 193, 193],\n",
      "       [233, 156, 115, 115]]), array([29,  5]))\n",
      "(array([[312, 119, 192, 192]]), array([29]))\n",
      "(array([[315, 122, 188, 188]]), array([33]))\n",
      "(array([[319, 119, 188, 188]]), array([32]))\n",
      "(array([[321, 121, 188, 188]]), array([34]))\n",
      "(array([[319, 119, 190, 190]]), array([30]))\n",
      "(array([[319, 119, 190, 190]]), array([30]))\n",
      "(array([[318, 121, 188, 188]]), array([30]))\n",
      "(array([[316, 119, 190, 190]]), array([30]))\n",
      "(array([[316, 121, 190, 190],\n",
      "       [231, 155, 118, 118]]), array([32,  4]))\n",
      "(array([[318, 123, 188, 188],\n",
      "       [233, 158, 112, 112]]), array([29,  6]))\n",
      "(array([[315, 125, 186, 186],\n",
      "       [230, 150, 122, 122]]), array([34,  4]))\n",
      "(array([[316, 125, 186, 186]]), array([31]))\n",
      "(array([[314, 127, 189, 189]]), array([33]))\n",
      "(array([[314, 127, 187, 187],\n",
      "       [236, 155, 116, 116]]), array([32,  4]))\n",
      "(array([[314, 126, 188, 188]]), array([31]))\n",
      "(array([[366, 396,  80,  80],\n",
      "       [316, 128, 184, 184],\n",
      "       [237, 157, 110, 110]]), array([ 5, 27,  5]))\n",
      "(array([[365, 394,  83,  83],\n",
      "       [313, 126, 189, 189],\n",
      "       [238, 158, 110, 110]]), array([ 7, 32,  4]))\n",
      "(array([[365, 395,  83,  83],\n",
      "       [317, 129, 183, 183]]), array([ 4, 31]))\n",
      "(array([[315, 127, 187, 187]]), array([31]))\n",
      "(array([[317, 128, 183, 183]]), array([31]))\n",
      "(array([[319, 129, 182, 182]]), array([29]))\n",
      "(array([[366, 394,  83,  83],\n",
      "       [320, 130, 180, 180]]), array([ 5, 29]))\n",
      "(array([[365, 395,  81,  81],\n",
      "       [317, 128, 183, 183]]), array([ 5, 34]))\n",
      "(array([[366, 396,  79,  79],\n",
      "       [316, 127, 186, 186]]), array([ 4, 32]))\n",
      "(array([[366, 394,  81,  81],\n",
      "       [316, 128, 185, 185]]), array([ 4, 32]))\n",
      "(array([[365, 395,  83,  83],\n",
      "       [318, 128, 183, 183]]), array([ 6, 33]))\n",
      "(array([[365, 394,  83,  83],\n",
      "       [319, 128, 183, 183],\n",
      "       [239, 155, 113, 113]]), array([ 6, 30,  4]))\n",
      "(array([[364, 391,  85,  85],\n",
      "       [317, 128, 185, 185],\n",
      "       [238, 156, 110, 110]]), array([ 4, 31,  4]))\n",
      "(array([[366, 393,  81,  81],\n",
      "       [317, 128, 184, 184]]), array([ 4, 31]))\n",
      "(array([[366, 395,  81,  81],\n",
      "       [318, 129, 184, 184]]), array([ 5, 31]))\n",
      "(array([[317, 128, 186, 186]]), array([29]))\n",
      "(array([[316, 126, 190, 190]]), array([25]))\n",
      "(array([[318, 128, 183, 183]]), array([26]))\n",
      "(array([[315, 127, 185, 185]]), array([28]))\n",
      "(array([[314, 127, 188, 188]]), array([24]))\n",
      "(array([[310, 123, 188, 188],\n",
      "       [242, 158, 105, 105]]), array([35,  8]))\n",
      "(array([[308, 122, 190, 190]]), array([33]))\n",
      "(array([[311, 125, 184, 184],\n",
      "       [244, 160, 102, 102]]), array([34,  5]))\n",
      "(array([[308, 125, 188, 188]]), array([24]))\n"
     ]
    },
    {
     "ename": "error",
     "evalue": "OpenCV(4.10.0) D:\\a\\opencv-python\\opencv-python\\opencv\\modules\\imgproc\\src\\color.cpp:196: error: (-215:Assertion failed) !_src.empty() in function 'cv::cvtColor'\n",
     "output_type": "error",
     "traceback": [
      "\u001b[1;31m---------------------------------------------------------------------------\u001b[0m",
      "\u001b[1;31merror\u001b[0m                                     Traceback (most recent call last)",
      "Cell \u001b[1;32mIn[29], line 6\u001b[0m\n\u001b[0;32m      3\u001b[0m _,img \u001b[38;5;241m=\u001b[39m vid\u001b[38;5;241m.\u001b[39mread()\n\u001b[0;32m      5\u001b[0m mul \u001b[38;5;241m=\u001b[39m classifier\u001b[38;5;241m.\u001b[39mdetectMultiScale2(img)\n\u001b[1;32m----> 6\u001b[0m img \u001b[38;5;241m=\u001b[39m \u001b[43mcv2\u001b[49m\u001b[38;5;241;43m.\u001b[39;49m\u001b[43mcvtColor\u001b[49m\u001b[43m(\u001b[49m\u001b[43mimg\u001b[49m\u001b[43m,\u001b[49m\u001b[43mcv2\u001b[49m\u001b[38;5;241;43m.\u001b[39;49m\u001b[43mCOLOR_BGR2GRAY\u001b[49m\u001b[43m)\u001b[49m\n\u001b[0;32m      7\u001b[0m \u001b[38;5;28mprint\u001b[39m(mul)\n\u001b[0;32m      8\u001b[0m \u001b[38;5;28;01mif\u001b[39;00m \u001b[38;5;28mlen\u001b[39m(mul)\u001b[38;5;241m<\u001b[39m\u001b[38;5;241m=\u001b[39m\u001b[38;5;241m3\u001b[39m:\n",
      "\u001b[1;31merror\u001b[0m: OpenCV(4.10.0) D:\\a\\opencv-python\\opencv-python\\opencv\\modules\\imgproc\\src\\color.cpp:196: error: (-215:Assertion failed) !_src.empty() in function 'cv::cvtColor'\n"
     ]
    }
   ],
   "source": [
    "vid = cv2.VideoCapture(0)\n",
    "while 1:\n",
    "    _,img = vid.read()\n",
    "    \n",
    "    mul = classifier.detectMultiScale2(img)\n",
    "    \n",
    "    print(mul)\n",
    "    if len(mul)<=3:\n",
    "        continue\n",
    "    for x,y,w,h in mul:\n",
    "        cv2.rectangle(img,(x,y),(x+w,y+h),(255,0,0),2)\n",
    "       \n",
    "    \n",
    "    cv2.imshow('mul',img)\n",
    "    if cv2.waitKey(1) & 0xFF == ord('q'):\n",
    "        break\n",
    "vid.release()\n",
    "cv2.destroyAllWindows()\n",
    "    "
   ]
  },
  {
   "cell_type": "code",
   "execution_count": null,
   "metadata": {},
   "outputs": [],
   "source": []
  },
  {
   "cell_type": "markdown",
   "metadata": {},
   "source": [
    "croping image from detection"
   ]
  },
  {
   "cell_type": "code",
   "execution_count": 1,
   "metadata": {},
   "outputs": [],
   "source": [
    "import cv2\n",
    "classifier = cv2.CascadeClassifier('haarcascade_frontalface_default.xml')"
   ]
  },
  {
   "cell_type": "code",
   "execution_count": 2,
   "metadata": {},
   "outputs": [],
   "source": [
    "vid = cv2.VideoCapture(0)\n",
    "\n",
    "while 1:\n",
    "    _,img = vid.read()\n",
    "    faces = classifier.detectMultiScale(img,1.1,3)\n",
    "    \n",
    "    \n",
    "    for x,y,w,h in faces:\n",
    "        \n",
    "        cv2.rectangle(img,(x,y),(x+w,y+h),(255,0,0),2)\n",
    "        \n",
    "        crop =  img[y:y+h,x:x+w]\n",
    "        \n",
    "        cv2.imshow('detect-faces',img)\n",
    "        cv2.imshow('crop',crop)\n",
    "    if cv2.waitKey(1) & 0xFF == ord('q'):\n",
    "        break\n",
    "vid.release()\n",
    "cv2.destroyAllWindows()\n",
    "    \n",
    "    "
   ]
  },
  {
   "cell_type": "markdown",
   "metadata": {},
   "source": [
    "fixed cropping using max_area"
   ]
  },
  {
   "cell_type": "code",
   "execution_count": 3,
   "metadata": {},
   "outputs": [],
   "source": [
    "vid = cv2.VideoCapture(0)\n",
    "\n",
    "while 1:\n",
    "    _,img = vid.read()\n",
    "    faces = classifier.detectMultiScale(img,1.1,3)\n",
    "    \n",
    "    max_area=0\n",
    "    crop_max = None\n",
    "    for x,y,w,h in faces:\n",
    "        area = w*h\n",
    "        if area>max_area:\n",
    "            max_area=area\n",
    "            crop_max=(x,y,w,h)\n",
    "        \n",
    "        cv2.rectangle(img,(x,y),(x+w,y+h),(255,0,0),2)\n",
    "        \n",
    "        \n",
    "        crop =  img[y:y+h,x:x+w]\n",
    "        \n",
    "    cv2.imshow('detect-faces',img)\n",
    "    if crop_max:\n",
    "        x,y,w,h=crop_max\n",
    "        crop_face = img[y:y+w,x:x+h]\n",
    "        cv2.imshow('crop',crop_face)\n",
    "       \n",
    "    if cv2.waitKey(1) & 0xFF == ord('q'):\n",
    "        break\n",
    "vid.release()\n",
    "cv2.destroyAllWindows()\n",
    "    \n",
    "    "
   ]
  },
  {
   "cell_type": "code",
   "execution_count": 61,
   "metadata": {},
   "outputs": [
    {
     "data": {
      "text/plain": [
       "array([186, 179, 179], dtype=uint8)"
      ]
     },
     "execution_count": 61,
     "metadata": {},
     "output_type": "execute_result"
    }
   ],
   "source": [
    "img[0]\n",
    "img[0][0]"
   ]
  },
  {
   "cell_type": "code",
   "execution_count": 62,
   "metadata": {},
   "outputs": [
    {
     "data": {
      "text/plain": [
       "array([[[255,   0,   0],\n",
       "        [255,   0,   0],\n",
       "        [255,   0,   0],\n",
       "        ...,\n",
       "        [255,   0,   0],\n",
       "        [255,   0,   0],\n",
       "        [255,   0,   0]],\n",
       "\n",
       "       [[255,   0,   0],\n",
       "        [255,   0,   0],\n",
       "        [255,   0,   0],\n",
       "        ...,\n",
       "        [255,   0,   0],\n",
       "        [255,   0,   0],\n",
       "        [255,   0,   0]],\n",
       "\n",
       "       [[255,   0,   0],\n",
       "        [255,   0,   0],\n",
       "        [173, 180, 173],\n",
       "        ...,\n",
       "        [172, 179, 172],\n",
       "        [172, 179, 173],\n",
       "        [255,   0,   0]],\n",
       "\n",
       "       ...,\n",
       "\n",
       "       [[255,   0,   0],\n",
       "        [255,   0,   0],\n",
       "        [106, 116, 103],\n",
       "        ...,\n",
       "        [106, 123, 107],\n",
       "        [106, 123, 107],\n",
       "        [255,   0,   0]],\n",
       "\n",
       "       [[255,   0,   0],\n",
       "        [255,   0,   0],\n",
       "        [106, 115, 102],\n",
       "        ...,\n",
       "        [105, 120, 105],\n",
       "        [106, 121, 106],\n",
       "        [255,   0,   0]],\n",
       "\n",
       "       [[255,   0,   0],\n",
       "        [255,   0,   0],\n",
       "        [255,   0,   0],\n",
       "        ...,\n",
       "        [255,   0,   0],\n",
       "        [255,   0,   0],\n",
       "        [255,   0,   0]]], dtype=uint8)"
      ]
     },
     "execution_count": 62,
     "metadata": {},
     "output_type": "execute_result"
    }
   ],
   "source": [
    "import matplotlib.pyplot as plt\n",
    "crop"
   ]
  },
  {
   "cell_type": "code",
   "execution_count": 65,
   "metadata": {},
   "outputs": [
    {
     "data": {
      "text/plain": [
       "<matplotlib.image.AxesImage at 0x28ba7829e80>"
      ]
     },
     "execution_count": 65,
     "metadata": {},
     "output_type": "execute_result"
    },
    {
     "data": {
      "image/png": "[encoded data removed]",
      "text/plain": [
       "<Figure size 640x480 with 1 Axes>"
      ]
     },
     "metadata": {},
     "output_type": "display_data"
    }
   ],
   "source": [
    "\n",
    "size = img[y:y+h,x:x+w]\n",
    "plt.imshow(size)\n"
   ]
  },
  {
   "cell_type": "code",
   "execution_count": null,
   "metadata": {},
   "outputs": [],
   "source": []
  }
 ],
 "metadata": {
  "kernelspec": {
   "display_name": "Python 3",
   "language": "python",
   "name": "python3"
  },
  "language_info": {
   "codemirror_mode": {
    "name": "ipython",
    "version": 3
   },
   "file_extension": ".py",
   "mimetype": "text/x-python",
   "name": "python",
   "nbconvert_exporter": "python",
   "pygments_lexer": "ipython3",
   "version": "3.12.0"
  }
 },
 "nbformat": 4,
 "nbformat_minor": 2
}
