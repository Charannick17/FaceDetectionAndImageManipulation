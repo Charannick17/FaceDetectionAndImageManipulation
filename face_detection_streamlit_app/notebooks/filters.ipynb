{
 "cells": [
  {
   "cell_type": "markdown",
   "metadata": {},
   "source": [
    "Filters \n",
    "\n",
    "based on the pixel we can increase or decrease the size of the pixel"
   ]
  },
  {
   "cell_type": "code",
   "execution_count": 27,
   "metadata": {},
   "outputs": [],
   "source": [
    "import cv2\n",
    "import numpy as np\n",
    "vid = cv2.VideoCapture(0)\n",
    "pixels = 20\n",
    "while 1:\n",
    "    _,img = vid.read()\n",
    "    cv2.flip(img,1)\n",
    "    filter_1 = img+(pixels*1.5)\n",
    "   \n",
    "    filter_1[filter_1<0]=0\n",
    "    filter_1[filter_1>255]=255\n",
    "    # if we are changing the pixels make sure to it is in int type\n",
    "    filter_1 = filter_1.astype(np.uint8)\n",
    "    \n",
    "    filter_2 = img+(pixels+5)\n",
    "    filter_2[filter_1<0]=0\n",
    "    filter_2[filter_1>255]=255\n",
    "    \n",
    "    filter_2 = filter_1.astype(np.uint8)\n",
    "    \n",
    "    cv2.imshow(\"org\",img)\n",
    "    cv2.imshow(\"fil_1\",filter_1)\n",
    "    cv2.imshow(\"fil_2\",filter_2)\n",
    "    key = cv2.waitKey(1)\n",
    "    if key==ord('q'):\n",
    "        break\n",
    "vid.release()\n",
    "cv2.destroyAllWindows()\n",
    "    \n",
    "    \n"
   ]
  },
  {
   "cell_type": "code",
   "execution_count": 28,
   "metadata": {},
   "outputs": [],
   "source": [
    "# decresease the image pixels\n",
    "import cv2\n",
    "import numpy as np\n",
    "vid = cv2.VideoCapture(0)\n",
    "pixels = 20\n",
    "while 1:\n",
    "    _,img = vid.read()\n",
    "    cv2.flip(img,1)\n",
    "    filter_1 = img-(pixels*1.5)\n",
    "   \n",
    "    filter_1[filter_1<0]=0\n",
    "    filter_1[filter_1>255]=255\n",
    "    # if we are changing the pixels make sure to it is in int type\n",
    "    filter_1 = filter_1.astype(np.uint8)\n",
    "    \n",
    "    filter_2 = img-(pixels+5)\n",
    "    filter_2[filter_1<0]=0\n",
    "    filter_2[filter_1>255]=255\n",
    "    \n",
    "    filter_2 = filter_1.astype(np.uint8)\n",
    "    \n",
    "    cv2.imshow(\"org\",img)\n",
    "    cv2.imshow(\"fil_1\",filter_1)\n",
    "    cv2.imshow(\"fil_2\",filter_2)\n",
    "    key = cv2.waitKey(1)\n",
    "    if key==ord('q'):\n",
    "        break\n",
    "vid.release()\n",
    "cv2.destroyAllWindows()\n",
    "    \n",
    "    \n"
   ]
  },
  {
   "cell_type": "markdown",
   "metadata": {},
   "source": [
    "adding blue lisht filter to the image"
   ]
  },
  {
   "cell_type": "code",
   "execution_count": null,
   "metadata": {},
   "outputs": [],
   "source": [
    "img.shape\n",
    "blue =[]"
   ]
  },
  {
   "cell_type": "code",
   "execution_count": 40,
   "metadata": {},
   "outputs": [],
   "source": [
    "import cv2\n",
    "import numpy as np\n",
    "blues = []\n",
    "for i in range(480):\n",
    "    for j in range(640):\n",
    "        blues.append(blue)\n",
    "blues = np.array(blues,dtype = np.uint8)\n",
    "\n"
   ]
  },
  {
   "cell_type": "code",
   "execution_count": 84,
   "metadata": {},
   "outputs": [],
   "source": [
    "import cv2\n",
    "import numpy as np\n",
    "vid = cv2.VideoCapture(0)\n",
    "\n",
    "while 1:\n",
    "    _,img = vid.read()\n",
    "    cv2.flip(img,1)\n",
    "    blues = np.full(img.shape,[(255,0,0)],dtype = np.uint8)\n",
    "    yellow= np.full(img.shape,[(75,25,255)],dtype = np.uint8)\n",
    "    # add weighted is a function which combines the pixels of the color to the image\n",
    "    # it take addtitional three parameters -->aplha (float)->weight of first input\n",
    "    blue_fil=cv2.addWeighted(img,0.8,blues,0.05,1)\n",
    "    yelo_fil = cv2.addWeighted(img,0.9,yellow,0.15,1)\n",
    "    cv2.imshow(\"img\",img)\n",
    "    cv2.imshow(\"blue\",blue_fil)\n",
    "    cv2.imshow(\"yello\",yelo_fil)\n",
    "    key = cv2.waitKey(1)\n",
    "    if key==ord('q'):\n",
    "        break\n",
    "vid.release()\n",
    "cv2.destroyAllWindows()\n",
    "    \n",
    "    \n"
   ]
  },
  {
   "cell_type": "markdown",
   "metadata": {},
   "source": [
    "we can also merge the background image + original image \n",
    "--> we can need the  --> resize the image\n"
   ]
  },
  {
   "cell_type": "code",
   "execution_count": 107,
   "metadata": {},
   "outputs": [],
   "source": [
    "def add_filter(source,dest,al,bet):\n",
    "    # reduce the size of the source of the file to destination\n",
    "    org = cv2.imread(source)\n",
    "    dest = cv2.imread(dest)\n",
    "    dest = cv2.resize(dest,(org.shape[1],org.shape[0]))\n",
    "    filter  = cv2.addWeighted(org,al,dest,bet,0)\n",
    "    cv2.imshow(\"orginal\",org)\n",
    "    cv2.imshow(\"filter\",filter)\n",
    "    cv2.waitKey(0)\n",
    "    cv2.destroyAllWindows()\n",
    "    "
   ]
  },
  {
   "cell_type": "code",
   "execution_count": 112,
   "metadata": {},
   "outputs": [],
   "source": [
    "import os\n",
    "src = \"charan.jpg\"\n",
    "file = \"back_ground_3.webp\"\n",
    "dest = os.path.join(\"background\",file)"
   ]
  },
  {
   "cell_type": "code",
   "execution_count": 113,
   "metadata": {},
   "outputs": [],
   "source": [
    "add_filter(src,dest,0.9,0.1)"
   ]
  },
  {
   "cell_type": "code",
   "execution_count": 99,
   "metadata": {},
   "outputs": [],
   "source": [
    "src = cv2.imread(dest)\n",
    "cv2.imshow(\"img\",src)\n",
    "cv2.waitKey(0)\n",
    "cv2.destroyAllWindows()"
   ]
  },
  {
   "cell_type": "code",
   "execution_count": 100,
   "metadata": {},
   "outputs": [
    {
     "ename": "error",
     "evalue": "OpenCV(4.10.0) :-1: error: (-5:Bad argument) in function 'imread'\n> Overload resolution failed:\n>  - Expected 'filename' to be a str or path-like object\n>  - Expected 'filename' to be a str or path-like object\n>  - Expected 'filename' to be a str or path-like object\n",
     "output_type": "error",
     "traceback": [
      "\u001b[1;31m---------------------------------------------------------------------------\u001b[0m",
      "\u001b[1;31merror\u001b[0m                                     Traceback (most recent call last)",
      "Cell \u001b[1;32mIn[100], line 1\u001b[0m\n\u001b[1;32m----> 1\u001b[0m \u001b[43madd_filter\u001b[49m\u001b[43m(\u001b[49m\u001b[43msrc\u001b[49m\u001b[43m,\u001b[49m\u001b[43mdest\u001b[49m\u001b[43m,\u001b[49m\u001b[38;5;241;43m0.8\u001b[39;49m\u001b[43m,\u001b[49m\u001b[38;5;241;43m0.1\u001b[39;49m\u001b[43m)\u001b[49m\n",
      "Cell \u001b[1;32mIn[97], line 3\u001b[0m, in \u001b[0;36madd_filter\u001b[1;34m(source, dest, al, bet)\u001b[0m\n\u001b[0;32m      1\u001b[0m \u001b[38;5;28;01mdef\u001b[39;00m \u001b[38;5;21madd_filter\u001b[39m(source,dest,al,bet):\n\u001b[0;32m      2\u001b[0m     \u001b[38;5;66;03m# reduce the size of the source of the file to destination\u001b[39;00m\n\u001b[1;32m----> 3\u001b[0m     org \u001b[38;5;241m=\u001b[39m \u001b[43mcv2\u001b[49m\u001b[38;5;241;43m.\u001b[39;49m\u001b[43mimread\u001b[49m\u001b[43m(\u001b[49m\u001b[43msource\u001b[49m\u001b[43m)\u001b[49m\n\u001b[0;32m      4\u001b[0m     dest \u001b[38;5;241m=\u001b[39m cv2\u001b[38;5;241m.\u001b[39mimread(dest)\n\u001b[0;32m      6\u001b[0m     dest \u001b[38;5;241m=\u001b[39m cv2\u001b[38;5;241m.\u001b[39mresize(dest,(org\u001b[38;5;241m.\u001b[39mshape[\u001b[38;5;241m1\u001b[39m],org\u001b[38;5;241m.\u001b[39mshape[\u001b[38;5;241m0\u001b[39m]))\n",
      "\u001b[1;31merror\u001b[0m: OpenCV(4.10.0) :-1: error: (-5:Bad argument) in function 'imread'\n> Overload resolution failed:\n>  - Expected 'filename' to be a str or path-like object\n>  - Expected 'filename' to be a str or path-like object\n>  - Expected 'filename' to be a str or path-like object\n"
     ]
    }
   ],
   "source": []
  },
  {
   "cell_type": "code",
   "execution_count": null,
   "metadata": {},
   "outputs": [],
   "source": []
  }
 ],
 "metadata": {
  "kernelspec": {
   "display_name": "Python 3",
   "language": "python",
   "name": "python3"
  },
  "language_info": {
   "codemirror_mode": {
    "name": "ipython",
    "version": 3
   },
   "file_extension": ".py",
   "mimetype": "text/x-python",
   "name": "python",
   "nbconvert_exporter": "python",
   "pygments_lexer": "ipython3",
   "version": "3.12.0"
  }
 },
 "nbformat": 4,
 "nbformat_minor": 2
}
